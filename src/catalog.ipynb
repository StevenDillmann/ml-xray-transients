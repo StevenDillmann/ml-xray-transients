{
 "cells": [
  {
   "cell_type": "markdown",
   "metadata": {},
   "source": [
    "# Machine Learning for the Detection of X-ray Transients \n",
    "### FXT 200515 Analysis\n",
    "\n",
    "Steven Dillmann, Contact: [stevendi@stanford.edu](stevendi@stanford.edu)\n",
    "\n",
    "26th June 2024"
   ]
  },
  {
   "cell_type": "code",
   "execution_count": 1,
   "metadata": {},
   "outputs": [],
   "source": [
    "# Imports\n",
    "import numpy as np\n",
    "import matplotlib.pyplot as plt\n",
    "from astropy.io import fits\n",
    "import subprocess\n",
    "plt.style.use('steven-space.mplstyle')\n",
    "\n",
    "# Custom Imports\n",
    "from utils.plotter import lc_flare, spec_fit, lc_fit\n",
    "from utils.manipulator import rebinning\n",
    "from utils.calculator import behr_hr\n",
    "\n",
    "# Custom Colors\n",
    "imperial = '#003E74'\n",
    "harvard = '#A51C30'\n",
    "silver = '#777777'\n",
    "silver2 = '#C0C0C0'\n",
    "gold = '#cfbd62'\n",
    "gold2 = '#dfc16d' #new but maybe worse\n",
    "harvard2 = '#ed1b34'\n",
    "\n",
    "# Define Paths\n",
    "data_root = '../data/'\n",
    "full_properties = data_root + 'properties-Full.csv'\n",
    "input_properties = data_root + 'properties-input-Full.csv'"
   ]
  },
  {
   "cell_type": "code",
   "execution_count": null,
   "metadata": {},
   "outputs": [],
   "source": [
    "# === Load Data ==============================================================="
   ]
  }
 ],
 "metadata": {
  "kernelspec": {
   "display_name": "ml4fxt",
   "language": "python",
   "name": "python3"
  },
  "language_info": {
   "codemirror_mode": {
    "name": "ipython",
    "version": 3
   },
   "file_extension": ".py",
   "mimetype": "text/x-python",
   "name": "python",
   "nbconvert_exporter": "python",
   "pygments_lexer": "ipython3",
   "version": "3.10.14"
  }
 },
 "nbformat": 4,
 "nbformat_minor": 2
}
